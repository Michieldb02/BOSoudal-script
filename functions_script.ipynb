{
 "cells": [
  {
   "cell_type": "markdown",
   "id": "253f5e1c",
   "metadata": {},
   "source": [
    "<h3>Functions Notebook</h3>\n",
    "<blockquote>This notebook contains several functions which have been used to retrieve, standardize and classify datasets.  </blockquote> <blockquote>\n",
    " Function 1: Loads vector dataset and rasterizes the set. The size of each raster can be adjusted. </blockquote> <blockquote>\n",
    " Function 2: Retrieves data from the OpenStreetMap API. Using OSM tags, custom data can be retrieved from a set location. </blockquote> <blockquote>\n",
    " Function 3: Used to define classes for datasets containing CSV files based on frequencies. </blockquote> <blockquote>\n",
    " Function 4: Extracts information from websites using a web scraper. Is mostly used for datasets which don't have downloadable data.<blockquote/>"
   ]
  },
  {
   "cell_type": "markdown",
   "id": "1b3bf506",
   "metadata": {},
   "source": [
    "<h3>Script for rasterizing vector datasets<h3>"
   ]
  },
  {
   "cell_type": "code",
   "execution_count": null,
   "id": "50437241",
   "metadata": {},
   "outputs": [],
   "source": [
    "# data from unemployement and household income is from 2019!!!\n",
    "\n",
    "# Script for rasterizing vector datasets\n",
    "\n",
    "# import pandas as pd\n",
    "# from geocube.api.core import make_geocube\n",
    "# from geocube.rasterize import rasterize_image\n",
    "# from functools import partial\n",
    "# from rasterio.enums import MergeAlg\n",
    "\n",
    "\n",
    "# hhi = gpd.read_file(f\"{fp}/landprices.gpkg\")\n",
    "# hhi = hhi.to_crs('EPSG:3035')\n",
    "# final_raster = make_geocube(\n",
    "# vector_data=hhi,\n",
    "# measurements=[\"valuefinal\"],\n",
    "# resolution=(-500, 500),\n",
    "# fill = 0)\n",
    "    \n",
    "# final_raster.rio.to_raster('C:/Users/michi/Documents/Blok 2 Jaar 4/final_landvalue.tif')"
   ]
  },
  {
   "cell_type": "markdown",
   "id": "3b8fd722",
   "metadata": {},
   "source": [
    "<h3>Script for retrieving data from Openstreetmap using tags<h3>"
   ]
  },
  {
   "cell_type": "code",
   "execution_count": null,
   "id": "59728626",
   "metadata": {},
   "outputs": [],
   "source": [
    "# Script for retrieving x data from y region/country\n",
    "\n",
    "# import osmnx as ox\n",
    "# cf = '[\"highway\" ~\"motorway\"]' \n",
    "# # ~\"trunk\"\n",
    "# G = ox.graph_from_place('Hungary', simplify=True, custom_filter=cf)\n",
    "# gdfhighways = ox.graph_to_gdfs(G, nodes=False)\n",
    "# gdfhighways = gdfhighways.drop(columns=['osmid', 'lanes', 'maxspeed', 'oneway', 'ref', 'name', 'highway', 'reversed', 'length', 'bridge'])\n",
    "# gdfhighways['id'] = range(len(gdfhighways))\n",
    "# gdfhighways = gdfhighways.set_index('id')\n",
    "# display(gdfhighways)\n",
    "# gdfhighways.plot()\n",
    "# type(gdfhighways)\n",
    "# gdfhighways.to_file(\"C:/Users/michi/Documents/Blok 2 Jaar 4/highway networks/highwayshungary.gpkg\", driver=\"GPKG\")"
   ]
  },
  {
   "cell_type": "markdown",
   "id": "ebe2be1d",
   "metadata": {},
   "source": [
    "<h3>Script for defining five classes and showing the frequencies <h3>"
   ]
  },
  {
   "cell_type": "code",
   "execution_count": null,
   "id": "ea596e94",
   "metadata": {},
   "outputs": [],
   "source": [
    "# import pandas as pd\n",
    "\n",
    "# # Read the CSV file containing education data into a DataFrame\n",
    "# df_edu = pd.read_csv(\"Education2022.csv\")\n",
    "\n",
    "# # Drop rows with missing values\n",
    "# df_edu.dropna(subset=['...2'], inplace=True)  # Replace '...2' with the actual column name\n",
    "\n",
    "# # Rename columns\n",
    "# df_edu.rename(columns={'...2': 'Percentage'}, inplace=True)  # Replace '...2' with the actual column name\n",
    "\n",
    "# # Round min and max values\n",
    "# min_value = round(df_edu['Percentage'].min())\n",
    "# max_value = round(df_edu['Percentage'].max())\n",
    "\n",
    "# # Define the number of bins\n",
    "# num_bins = 5\n",
    "\n",
    "# # Calculate bin width\n",
    "# bin_width = (max_value - min_value) / num_bins\n",
    "\n",
    "# # Define the custom bin boundaries\n",
    "# custom_bin_boundaries = [round(min_value + i * bin_width) for i in range(num_bins + 1)]\n",
    "\n",
    "# # Cut the data into custom ranges\n",
    "# df_edu['Custom_bin'] = pd.cut(df_edu['Percentage'], bins=custom_bin_boundaries, include_lowest=True)\n",
    "\n",
    "# # Count the frequency of values falling into each custom bin\n",
    "# custom_bin_counts = df_edu['Custom_bin'].value_counts().sort_index()\n",
    "\n",
    "# # Print the counts for each custom range\n",
    "# for index, count in custom_bin_counts.items():\n",
    "#     print(f\"Frequency for range {index}: {count}\")"
   ]
  },
  {
   "cell_type": "markdown",
   "id": "a2e83cae",
   "metadata": {},
   "source": [
    "<h3>Script for extracting data from set site using web scraping<h3>"
   ]
  },
  {
   "cell_type": "code",
   "execution_count": null,
   "id": "d4cd3912",
   "metadata": {},
   "outputs": [],
   "source": [
    "from urllib.request import urlopen\n",
    "url = \"https://www.intermodal-terminals.eu/database/\"\n",
    "context = ssl._create_unverified_context()\n",
    "page = urlopen(url, context=context)\n",
    "html = page.read().decode(\"utf-8\")"
   ]
  },
  {
   "cell_type": "code",
   "execution_count": null,
   "id": "51bb37b2",
   "metadata": {},
   "outputs": [],
   "source": [
    "Continuation of extracting data using web scraping\n",
    "from bs4 import BeautifulSoup\n",
    "import json\n",
    "soup = BeautifulSoup(html, \"html.parser\")\n",
    "\n",
    "script_tag = soup.find(\"script\", text=lambda x: x and \"var searchresults\" in x)\n",
    "script_content = script_tag.text.strip()\n",
    "print(script_content)\n",
    "start_index = script_content.find(\"[{\")\n",
    "end_index = script_content.find(\"];\")\n",
    "json_data = script_content[start_index:end_index]\n",
    "json_data += \"]\" \n",
    "json = json.loads(json_data)\n",
    "trains = pd.json_normalize(json)"
   ]
  }
 ],
 "metadata": {
  "kernelspec": {
   "display_name": "Python 3 (ipykernel)",
   "language": "python",
   "name": "python3"
  },
  "language_info": {
   "codemirror_mode": {
    "name": "ipython",
    "version": 3
   },
   "file_extension": ".py",
   "mimetype": "text/x-python",
   "name": "python",
   "nbconvert_exporter": "python",
   "pygments_lexer": "ipython3",
   "version": "3.9.12"
  }
 },
 "nbformat": 4,
 "nbformat_minor": 5
}
